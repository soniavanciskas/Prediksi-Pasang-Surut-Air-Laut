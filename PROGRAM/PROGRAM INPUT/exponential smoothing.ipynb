{
 "cells": [
  {
   "cell_type": "code",
   "execution_count": 1,
   "metadata": {
    "id": "wXzbfXLsQ2Lx"
   },
   "outputs": [],
   "source": [
    "import pandas as pd\n",
    "import numpy as np\n",
    "import matplotlib as pyplot\n",
    "from datetime import datetime"
   ]
  },
  {
   "cell_type": "code",
   "execution_count": 22,
   "metadata": {
    "colab": {
     "base_uri": "https://localhost:8080/"
    },
    "id": "kWcpPcWcXTAv",
    "outputId": "6f8a5f0e-aa8b-4ca3-c11d-ad48af8fff17"
   },
   "outputs": [
    {
     "name": "stdout",
     "output_type": "stream",
     "text": [
      "<class 'pandas.core.frame.DataFrame'>\n",
      "RangeIndex: 9433 entries, 0 to 9432\n",
      "Data columns (total 3 columns):\n",
      " #   Column      Non-Null Count  Dtype \n",
      "---  ------      --------------  ----- \n",
      " 0   tanggal     9433 non-null   object\n",
      " 1   waktu       9433 non-null   object\n",
      " 2   ketinggian  9433 non-null   int64 \n",
      "dtypes: int64(1), object(2)\n",
      "memory usage: 221.2+ KB\n"
     ]
    }
   ],
   "source": [
    "df = pd.read_csv(\"april.csv\")\n",
    "df.info()"
   ]
  },
  {
   "cell_type": "code",
   "execution_count": 23,
   "metadata": {},
   "outputs": [
    {
     "data": {
      "text/html": [
       "<div>\n",
       "<style scoped>\n",
       "    .dataframe tbody tr th:only-of-type {\n",
       "        vertical-align: middle;\n",
       "    }\n",
       "\n",
       "    .dataframe tbody tr th {\n",
       "        vertical-align: top;\n",
       "    }\n",
       "\n",
       "    .dataframe thead th {\n",
       "        text-align: right;\n",
       "    }\n",
       "</style>\n",
       "<table border=\"1\" class=\"dataframe\">\n",
       "  <thead>\n",
       "    <tr style=\"text-align: right;\">\n",
       "      <th></th>\n",
       "      <th>ketinggian</th>\n",
       "    </tr>\n",
       "  </thead>\n",
       "  <tbody>\n",
       "    <tr>\n",
       "      <th>count</th>\n",
       "      <td>9433.000000</td>\n",
       "    </tr>\n",
       "    <tr>\n",
       "      <th>mean</th>\n",
       "      <td>110.825718</td>\n",
       "    </tr>\n",
       "    <tr>\n",
       "      <th>std</th>\n",
       "      <td>54.422772</td>\n",
       "    </tr>\n",
       "    <tr>\n",
       "      <th>min</th>\n",
       "      <td>-33.000000</td>\n",
       "    </tr>\n",
       "    <tr>\n",
       "      <th>25%</th>\n",
       "      <td>73.000000</td>\n",
       "    </tr>\n",
       "    <tr>\n",
       "      <th>50%</th>\n",
       "      <td>115.000000</td>\n",
       "    </tr>\n",
       "    <tr>\n",
       "      <th>75%</th>\n",
       "      <td>149.000000</td>\n",
       "    </tr>\n",
       "    <tr>\n",
       "      <th>max</th>\n",
       "      <td>262.000000</td>\n",
       "    </tr>\n",
       "  </tbody>\n",
       "</table>\n",
       "</div>"
      ],
      "text/plain": [
       "        ketinggian\n",
       "count  9433.000000\n",
       "mean    110.825718\n",
       "std      54.422772\n",
       "min     -33.000000\n",
       "25%      73.000000\n",
       "50%     115.000000\n",
       "75%     149.000000\n",
       "max     262.000000"
      ]
     },
     "execution_count": 23,
     "metadata": {},
     "output_type": "execute_result"
    }
   ],
   "source": [
    "df.describe()"
   ]
  },
  {
   "cell_type": "code",
   "execution_count": 24,
   "metadata": {},
   "outputs": [
    {
     "data": {
      "text/plain": [
       "0"
      ]
     },
     "execution_count": 24,
     "metadata": {},
     "output_type": "execute_result"
    }
   ],
   "source": [
    "df.duplicated().sum()"
   ]
  },
  {
   "cell_type": "code",
   "execution_count": 3,
   "metadata": {
    "colab": {
     "base_uri": "https://localhost:8080/"
    },
    "id": "fy0YtzOTXTDQ",
    "outputId": "ea8ddc25-7293-47ca-a9f2-1f93604b86a8"
   },
   "outputs": [
    {
     "name": "stdout",
     "output_type": "stream",
     "text": [
      "<class 'pandas.core.frame.DataFrame'>\n",
      "RangeIndex: 9433 entries, 0 to 9432\n",
      "Data columns (total 3 columns):\n",
      " #   Column      Non-Null Count  Dtype         \n",
      "---  ------      --------------  -----         \n",
      " 0   tanggal     9433 non-null   datetime64[ns]\n",
      " 1   waktu       9433 non-null   object        \n",
      " 2   ketinggian  9433 non-null   int64         \n",
      "dtypes: datetime64[ns](1), int64(1), object(1)\n",
      "memory usage: 221.2+ KB\n"
     ]
    }
   ],
   "source": [
    "#ubah menjadi datetime\n",
    "df['tanggal'] = pd.to_datetime(df['tanggal'], format='%d/%m/%Y')\n",
    "df['waktu'] = pd.to_datetime(df['waktu'], format='%H:%M:%S').dt.time\n",
    "df.info()"
   ]
  },
  {
   "cell_type": "code",
   "execution_count": 4,
   "metadata": {
    "colab": {
     "base_uri": "https://localhost:8080/"
    },
    "id": "Do3VN_pLZOwm",
    "outputId": "5cdeba03-c135-4686-93f8-44c0842029a6"
   },
   "outputs": [
    {
     "name": "stdout",
     "output_type": "stream",
     "text": [
      "<class 'pandas.core.frame.DataFrame'>\n",
      "RangeIndex: 9433 entries, 0 to 9432\n",
      "Data columns (total 4 columns):\n",
      " #   Column      Non-Null Count  Dtype         \n",
      "---  ------      --------------  -----         \n",
      " 0   tanggal     9433 non-null   datetime64[ns]\n",
      " 1   waktu       9433 non-null   object        \n",
      " 2   ketinggian  9433 non-null   int64         \n",
      " 3   waktu1      9433 non-null   datetime64[ns]\n",
      "dtypes: datetime64[ns](2), int64(1), object(1)\n",
      "memory usage: 294.9+ KB\n"
     ]
    }
   ],
   "source": [
    "# gabung\n",
    "df['waktu1'] = df.apply(lambda row: datetime.combine(row['tanggal'], row['waktu']), axis=1)\n",
    "df.info()"
   ]
  },
  {
   "cell_type": "code",
   "execution_count": 5,
   "metadata": {
    "colab": {
     "base_uri": "https://localhost:8080/",
     "height": 424
    },
    "id": "xCnGvLCNXTGX",
    "outputId": "adc3cc95-96c7-4f9c-8b44-51e3915ad821"
   },
   "outputs": [
    {
     "data": {
      "text/html": [
       "<div>\n",
       "<style scoped>\n",
       "    .dataframe tbody tr th:only-of-type {\n",
       "        vertical-align: middle;\n",
       "    }\n",
       "\n",
       "    .dataframe tbody tr th {\n",
       "        vertical-align: top;\n",
       "    }\n",
       "\n",
       "    .dataframe thead th {\n",
       "        text-align: right;\n",
       "    }\n",
       "</style>\n",
       "<table border=\"1\" class=\"dataframe\">\n",
       "  <thead>\n",
       "    <tr style=\"text-align: right;\">\n",
       "      <th></th>\n",
       "      <th>ketinggian</th>\n",
       "      <th>waktu1</th>\n",
       "    </tr>\n",
       "  </thead>\n",
       "  <tbody>\n",
       "    <tr>\n",
       "      <th>0</th>\n",
       "      <td>93</td>\n",
       "      <td>2023-04-01 00:00:00</td>\n",
       "    </tr>\n",
       "    <tr>\n",
       "      <th>1</th>\n",
       "      <td>129</td>\n",
       "      <td>2023-04-01 01:00:00</td>\n",
       "    </tr>\n",
       "    <tr>\n",
       "      <th>2</th>\n",
       "      <td>153</td>\n",
       "      <td>2023-04-01 02:00:00</td>\n",
       "    </tr>\n",
       "    <tr>\n",
       "      <th>3</th>\n",
       "      <td>160</td>\n",
       "      <td>2023-04-01 03:00:00</td>\n",
       "    </tr>\n",
       "    <tr>\n",
       "      <th>4</th>\n",
       "      <td>159</td>\n",
       "      <td>2023-04-01 04:00:00</td>\n",
       "    </tr>\n",
       "    <tr>\n",
       "      <th>...</th>\n",
       "      <td>...</td>\n",
       "      <td>...</td>\n",
       "    </tr>\n",
       "    <tr>\n",
       "      <th>9428</th>\n",
       "      <td>63</td>\n",
       "      <td>2024-04-30 19:00:00</td>\n",
       "    </tr>\n",
       "    <tr>\n",
       "      <th>9429</th>\n",
       "      <td>83</td>\n",
       "      <td>2024-04-30 20:00:00</td>\n",
       "    </tr>\n",
       "    <tr>\n",
       "      <th>9430</th>\n",
       "      <td>100</td>\n",
       "      <td>2024-04-30 21:00:00</td>\n",
       "    </tr>\n",
       "    <tr>\n",
       "      <th>9431</th>\n",
       "      <td>116</td>\n",
       "      <td>2024-04-30 22:00:00</td>\n",
       "    </tr>\n",
       "    <tr>\n",
       "      <th>9432</th>\n",
       "      <td>125</td>\n",
       "      <td>2024-04-30 23:00:00</td>\n",
       "    </tr>\n",
       "  </tbody>\n",
       "</table>\n",
       "<p>9433 rows × 2 columns</p>\n",
       "</div>"
      ],
      "text/plain": [
       "      ketinggian              waktu1\n",
       "0             93 2023-04-01 00:00:00\n",
       "1            129 2023-04-01 01:00:00\n",
       "2            153 2023-04-01 02:00:00\n",
       "3            160 2023-04-01 03:00:00\n",
       "4            159 2023-04-01 04:00:00\n",
       "...          ...                 ...\n",
       "9428          63 2024-04-30 19:00:00\n",
       "9429          83 2024-04-30 20:00:00\n",
       "9430         100 2024-04-30 21:00:00\n",
       "9431         116 2024-04-30 22:00:00\n",
       "9432         125 2024-04-30 23:00:00\n",
       "\n",
       "[9433 rows x 2 columns]"
      ]
     },
     "execution_count": 5,
     "metadata": {},
     "output_type": "execute_result"
    }
   ],
   "source": [
    "# Menghapus kolom 'tanggal' dan 'waktu' yang lama\n",
    "df.drop(columns=['tanggal', 'waktu'], inplace=True)\n",
    "df"
   ]
  },
  {
   "cell_type": "code",
   "execution_count": 6,
   "metadata": {
    "colab": {
     "base_uri": "https://localhost:8080/"
    },
    "id": "evsYfEaEa2Lf",
    "outputId": "dfeabefe-4ce3-44ad-b449-4bcc3ca09588"
   },
   "outputs": [
    {
     "data": {
      "text/plain": [
       "ketinggian    0\n",
       "waktu1        0\n",
       "dtype: int64"
      ]
     },
     "execution_count": 6,
     "metadata": {},
     "output_type": "execute_result"
    }
   ],
   "source": [
    "#cek data hilang\n",
    "df.isnull().sum()"
   ]
  },
  {
   "cell_type": "code",
   "execution_count": 7,
   "metadata": {
    "colab": {
     "base_uri": "https://localhost:8080/",
     "height": 428
    },
    "id": "kiSoVdxFbp__",
    "outputId": "69e07397-f3aa-4511-fe60-503bc18bb042"
   },
   "outputs": [
    {
     "data": {
      "text/plain": [
       "<Axes: ylabel='ketinggian'>"
      ]
     },
     "execution_count": 7,
     "metadata": {},
     "output_type": "execute_result"
    },
    {
     "data": {
      "image/png": "[encoded data removed]",
      "text/plain": [
       "<Figure size 640x480 with 1 Axes>"
      ]
     },
     "metadata": {},
     "output_type": "display_data"
    }
   ],
   "source": [
    "#cek outlier\n",
    "import seaborn as sns\n",
    "sns.boxplot(y=df['ketinggian'])"
   ]
  },
  {
   "cell_type": "code",
   "execution_count": 8,
   "metadata": {
    "colab": {
     "base_uri": "https://localhost:8080/"
    },
    "id": "QH999EMwcewH",
    "outputId": "255ef8ce-4d3d-4773-cc7e-4cfee2861e01"
   },
   "outputs": [
    {
     "data": {
      "text/plain": [
       "1887"
      ]
     },
     "execution_count": 8,
     "metadata": {},
     "output_type": "execute_result"
    }
   ],
   "source": [
    "# hitung data training dengan data testing\n",
    "utrain = int(len(df) * 0.8)\n",
    "utest = len(df) - utrain\n",
    "utest"
   ]
  },
  {
   "cell_type": "code",
   "execution_count": 9,
   "metadata": {
    "colab": {
     "base_uri": "https://localhost:8080/",
     "height": 455
    },
    "id": "2PFnzDTXceyw",
    "outputId": "2b0988b2-ccbb-4ee6-fe1a-ce7f8e81f23e"
   },
   "outputs": [
    {
     "data": {
      "text/html": [
       "<div>\n",
       "<style scoped>\n",
       "    .dataframe tbody tr th:only-of-type {\n",
       "        vertical-align: middle;\n",
       "    }\n",
       "\n",
       "    .dataframe tbody tr th {\n",
       "        vertical-align: top;\n",
       "    }\n",
       "\n",
       "    .dataframe thead th {\n",
       "        text-align: right;\n",
       "    }\n",
       "</style>\n",
       "<table border=\"1\" class=\"dataframe\">\n",
       "  <thead>\n",
       "    <tr style=\"text-align: right;\">\n",
       "      <th></th>\n",
       "      <th>ketinggian</th>\n",
       "      <th>waktu1</th>\n",
       "    </tr>\n",
       "  </thead>\n",
       "  <tbody>\n",
       "    <tr>\n",
       "      <th>0</th>\n",
       "      <td>93</td>\n",
       "      <td>2023-04-01 00:00:00</td>\n",
       "    </tr>\n",
       "    <tr>\n",
       "      <th>1</th>\n",
       "      <td>129</td>\n",
       "      <td>2023-04-01 01:00:00</td>\n",
       "    </tr>\n",
       "    <tr>\n",
       "      <th>2</th>\n",
       "      <td>153</td>\n",
       "      <td>2023-04-01 02:00:00</td>\n",
       "    </tr>\n",
       "    <tr>\n",
       "      <th>3</th>\n",
       "      <td>160</td>\n",
       "      <td>2023-04-01 03:00:00</td>\n",
       "    </tr>\n",
       "    <tr>\n",
       "      <th>4</th>\n",
       "      <td>159</td>\n",
       "      <td>2023-04-01 04:00:00</td>\n",
       "    </tr>\n",
       "    <tr>\n",
       "      <th>...</th>\n",
       "      <td>...</td>\n",
       "      <td>...</td>\n",
       "    </tr>\n",
       "    <tr>\n",
       "      <th>7541</th>\n",
       "      <td>118</td>\n",
       "      <td>2024-02-12 04:00:00</td>\n",
       "    </tr>\n",
       "    <tr>\n",
       "      <th>7542</th>\n",
       "      <td>151</td>\n",
       "      <td>2024-02-12 05:00:00</td>\n",
       "    </tr>\n",
       "    <tr>\n",
       "      <th>7543</th>\n",
       "      <td>150</td>\n",
       "      <td>2024-02-12 06:00:00</td>\n",
       "    </tr>\n",
       "    <tr>\n",
       "      <th>7544</th>\n",
       "      <td>144</td>\n",
       "      <td>2024-02-12 07:00:00</td>\n",
       "    </tr>\n",
       "    <tr>\n",
       "      <th>7545</th>\n",
       "      <td>135</td>\n",
       "      <td>2024-02-12 08:00:00</td>\n",
       "    </tr>\n",
       "  </tbody>\n",
       "</table>\n",
       "<p>7546 rows × 2 columns</p>\n",
       "</div>"
      ],
      "text/plain": [
       "      ketinggian              waktu1\n",
       "0             93 2023-04-01 00:00:00\n",
       "1            129 2023-04-01 01:00:00\n",
       "2            153 2023-04-01 02:00:00\n",
       "3            160 2023-04-01 03:00:00\n",
       "4            159 2023-04-01 04:00:00\n",
       "...          ...                 ...\n",
       "7541         118 2024-02-12 04:00:00\n",
       "7542         151 2024-02-12 05:00:00\n",
       "7543         150 2024-02-12 06:00:00\n",
       "7544         144 2024-02-12 07:00:00\n",
       "7545         135 2024-02-12 08:00:00\n",
       "\n",
       "[7546 rows x 2 columns]"
      ]
     },
     "execution_count": 9,
     "metadata": {},
     "output_type": "execute_result"
    }
   ],
   "source": [
    "# pisah data training dan data testing\n",
    "train = df.iloc[:7546]\n",
    "test = df.iloc[7546:]\n",
    "train"
   ]
  },
  {
   "cell_type": "code",
   "execution_count": 10,
   "metadata": {},
   "outputs": [
    {
     "data": {
      "text/plain": [
       "array([[0.58461538],\n",
       "       [0.53076923],\n",
       "       [0.47307692],\n",
       "       ...,\n",
       "       [0.47692308],\n",
       "       [0.53846154],\n",
       "       [0.57307692]])"
      ]
     },
     "execution_count": 10,
     "metadata": {},
     "output_type": "execute_result"
    }
   ],
   "source": [
    "#normalisasi training dan testing\n",
    "from sklearn.preprocessing import MinMaxScaler\n",
    "scaler = MinMaxScaler()\n",
    "train = scaler.fit_transform(train[['ketinggian']])\n",
    "test = scaler.fit_transform(test[['ketinggian']])\n",
    "test"
   ]
  },
  {
   "cell_type": "code",
   "execution_count": 11,
   "metadata": {},
   "outputs": [
    {
     "name": "stdout",
     "output_type": "stream",
     "text": [
      "ADF Statistic: -3.398124521210949\n",
      "p-value: 0.011022972945383866\n",
      "Critical Values:\n",
      "   1%: -3.431046304852604\n",
      "   5%: -2.861847723138913\n",
      "   10%: -2.566933795935773\n",
      "Hasil uji menunjukkan data tidak stasioner (ada tren).\n"
     ]
    }
   ],
   "source": [
    "# Uji Augmented Dickey-Fuller (ADF) untuk stasioneritas\n",
    "from statsmodels.tsa.stattools import adfuller\n",
    "from statsmodels.tsa.holtwinters import ExponentialSmoothing\n",
    "from sklearn.metrics import mean_squared_error\n",
    "\n",
    "result = adfuller(df['ketinggian'])\n",
    "\n",
    "print('ADF Statistic:', result[0])\n",
    "print('p-value:', result[1])\n",
    "print('Critical Values:')\n",
    "for key, value in result[4].items():\n",
    "    print(f'   {key}: {value}')\n",
    "\n",
    "if result[1] <= 0.05:\n",
    "    print(\"Hasil uji menunjukkan data tidak stasioner (ada tren).\")\n",
    "else:\n",
    "    print(\"Hasil uji menunjukkan data stasioner (tanpa tren).\")"
   ]
  },
  {
   "cell_type": "code",
   "execution_count": 12,
   "metadata": {},
   "outputs": [
    {
     "name": "stdout",
     "output_type": "stream",
     "text": [
      "Best seasonal_periods: 144\n"
     ]
    }
   ],
   "source": [
    "from statsmodels.tsa.holtwinters import ExponentialSmoothing\n",
    "from sklearn.metrics import mean_squared_error\n",
    "\n",
    "best_rmse = float('inf')\n",
    "best_period = None\n",
    "possible_periods = [7, 14, 30, 60, 90, 144, 180, 365]\n",
    "\n",
    "\n",
    "for period in possible_periods:\n",
    "    model = ExponentialSmoothing(train, trend='add', seasonal='add', seasonal_periods=period)\n",
    "    fit = model.fit(smoothing_level=0.6,\n",
    "    smoothing_trend=2e-5,\n",
    "    smoothing_seasonal=0.001)\n",
    "    predictions = fit.predict(start=len(train), end=len(train)+len(test)-1)\n",
    "    rmse = np.sqrt(mean_squared_error(test, predictions))\n",
    "    \n",
    "    if rmse < best_rmse:\n",
    "        best_rmse = rmse\n",
    "        best_period = period\n",
    "\n",
    "print(f\"Best seasonal_periods: {best_period}\")\n"
   ]
  },
  {
   "cell_type": "code",
   "execution_count": 25,
   "metadata": {},
   "outputs": [
    {
     "data": {
      "text/plain": [
       "<statsmodels.tsa.holtwinters.results.HoltWintersResultsWrapper at 0x7fad7b61cb80>"
      ]
     },
     "execution_count": 25,
     "metadata": {},
     "output_type": "execute_result"
    }
   ],
   "source": [
    "# Membuat model Exponential Smoothing dengan tuning hyperparameters\n",
    "from statsmodels.tsa.holtwinters import ExponentialSmoothing\n",
    "model = ExponentialSmoothing(\n",
    "    train,\n",
    "    trend='add',\n",
    "    seasonal='add',\n",
    "    seasonal_periods=144\n",
    ")\n",
    "\n",
    "fit = model.fit(\n",
    "    smoothing_level=0.6,\n",
    "    smoothing_trend=2e-5,\n",
    "    smoothing_seasonal=0.001\n",
    ")\n",
    "\n",
    "fit"
   ]
  },
  {
   "cell_type": "code",
   "execution_count": 14,
   "metadata": {},
   "outputs": [
    {
     "data": {
      "text/plain": [
       "array([0.58633556, 0.59485329, 0.59171135, ..., 0.49349445, 0.53273971,\n",
       "       0.57202467])"
      ]
     },
     "execution_count": 14,
     "metadata": {},
     "output_type": "execute_result"
    }
   ],
   "source": [
    "prediksi = fit.forecast(steps=len(test))\n",
    "prediksi"
   ]
  },
  {
   "cell_type": "code",
   "execution_count": null,
   "metadata": {},
   "outputs": [],
   "source": []
  },
  {
   "cell_type": "code",
   "execution_count": 15,
   "metadata": {},
   "outputs": [
    {
     "name": "stdout",
     "output_type": "stream",
     "text": [
      "0.152132921898121\n",
      "0.035151776044066566\n",
      "0.187488069071252\n"
     ]
    }
   ],
   "source": [
    "from sklearn import metrics\n",
    "mae = metrics.mean_absolute_error(test, prediksi)\n",
    "mse = metrics.mean_squared_error(test, prediksi)\n",
    "rmse = np.sqrt(mse)\n",
    "print (mae)\n",
    "print (mse)\n",
    "print (rmse)"
   ]
  },
  {
   "cell_type": "code",
   "execution_count": 16,
   "metadata": {},
   "outputs": [
    {
     "data": {
      "text/plain": [
       "array([[ 87.05084746],\n",
       "       [118.77966102],\n",
       "       [139.93220339],\n",
       "       ...,\n",
       "       [137.28813559],\n",
       "       [132.        ],\n",
       "       [124.06779661]])"
      ]
     },
     "execution_count": 16,
     "metadata": {},
     "output_type": "execute_result"
    }
   ],
   "source": [
    "#balikkin ke data asli \n",
    "trainasli = scaler.inverse_transform(train)\n",
    "testasli = scaler.inverse_transform(test)\n",
    "prediksi = prediksi.reshape(-1,1)\n",
    "prediksiasli = scaler.inverse_transform(prediksi)\n",
    "trainasli"
   ]
  },
  {
   "cell_type": "code",
   "execution_count": 17,
   "metadata": {},
   "outputs": [],
   "source": [
    "#reshape data\n",
    "trainasli = trainasli.reshape(-1)  # atau gunakan .ravel()\n",
    "testasli = testasli.reshape(-1)\n",
    "futureasli = prediksiasli.reshape(-1)\n",
    "\n",
    "train_len = len(train)\n",
    "test_len = len(test)\n",
    "train_index = np.arange(0, train_len)\n",
    "test_index = np.arange(train_len, train_len + test_len)\n",
    "\n",
    "trains = pd.DataFrame(trainasli, index=train_index)\n",
    "tests = pd.DataFrame(testasli, index=test_index)\n",
    "prediksi = pd.DataFrame(futureasli, index=test_index)"
   ]
  },
  {
   "cell_type": "code",
   "execution_count": 18,
   "metadata": {},
   "outputs": [
    {
     "data": {
      "text/html": [
       "<div>\n",
       "<style scoped>\n",
       "    .dataframe tbody tr th:only-of-type {\n",
       "        vertical-align: middle;\n",
       "    }\n",
       "\n",
       "    .dataframe tbody tr th {\n",
       "        vertical-align: top;\n",
       "    }\n",
       "\n",
       "    .dataframe thead th {\n",
       "        text-align: right;\n",
       "    }\n",
       "</style>\n",
       "<table border=\"1\" class=\"dataframe\">\n",
       "  <thead>\n",
       "    <tr style=\"text-align: right;\">\n",
       "      <th></th>\n",
       "      <th>Train</th>\n",
       "      <th>Prediksi</th>\n",
       "      <th>Test</th>\n",
       "      <th>waktu</th>\n",
       "    </tr>\n",
       "  </thead>\n",
       "  <tbody>\n",
       "    <tr>\n",
       "      <th>0</th>\n",
       "      <td>87.050847</td>\n",
       "      <td>NaN</td>\n",
       "      <td>NaN</td>\n",
       "      <td>2023-04-01 00:00:00</td>\n",
       "    </tr>\n",
       "    <tr>\n",
       "      <th>1</th>\n",
       "      <td>118.779661</td>\n",
       "      <td>NaN</td>\n",
       "      <td>NaN</td>\n",
       "      <td>2023-04-01 01:00:00</td>\n",
       "    </tr>\n",
       "    <tr>\n",
       "      <th>2</th>\n",
       "      <td>139.932203</td>\n",
       "      <td>NaN</td>\n",
       "      <td>NaN</td>\n",
       "      <td>2023-04-01 02:00:00</td>\n",
       "    </tr>\n",
       "    <tr>\n",
       "      <th>3</th>\n",
       "      <td>146.101695</td>\n",
       "      <td>NaN</td>\n",
       "      <td>NaN</td>\n",
       "      <td>2023-04-01 03:00:00</td>\n",
       "    </tr>\n",
       "    <tr>\n",
       "      <th>4</th>\n",
       "      <td>145.220339</td>\n",
       "      <td>NaN</td>\n",
       "      <td>NaN</td>\n",
       "      <td>2023-04-01 04:00:00</td>\n",
       "    </tr>\n",
       "    <tr>\n",
       "      <th>...</th>\n",
       "      <td>...</td>\n",
       "      <td>...</td>\n",
       "      <td>...</td>\n",
       "      <td>...</td>\n",
       "    </tr>\n",
       "    <tr>\n",
       "      <th>9428</th>\n",
       "      <td>NaN</td>\n",
       "      <td>93.464466</td>\n",
       "      <td>63.0</td>\n",
       "      <td>2024-04-30 19:00:00</td>\n",
       "    </tr>\n",
       "    <tr>\n",
       "      <th>9429</th>\n",
       "      <td>NaN</td>\n",
       "      <td>96.859212</td>\n",
       "      <td>83.0</td>\n",
       "      <td>2024-04-30 20:00:00</td>\n",
       "    </tr>\n",
       "    <tr>\n",
       "      <th>9430</th>\n",
       "      <td>NaN</td>\n",
       "      <td>104.308558</td>\n",
       "      <td>100.0</td>\n",
       "      <td>2024-04-30 21:00:00</td>\n",
       "    </tr>\n",
       "    <tr>\n",
       "      <th>9431</th>\n",
       "      <td>NaN</td>\n",
       "      <td>114.512325</td>\n",
       "      <td>116.0</td>\n",
       "      <td>2024-04-30 22:00:00</td>\n",
       "    </tr>\n",
       "    <tr>\n",
       "      <th>9432</th>\n",
       "      <td>NaN</td>\n",
       "      <td>124.726415</td>\n",
       "      <td>125.0</td>\n",
       "      <td>2024-04-30 23:00:00</td>\n",
       "    </tr>\n",
       "  </tbody>\n",
       "</table>\n",
       "<p>9433 rows × 4 columns</p>\n",
       "</div>"
      ],
      "text/plain": [
       "           Train    Prediksi   Test               waktu\n",
       "0      87.050847         NaN    NaN 2023-04-01 00:00:00\n",
       "1     118.779661         NaN    NaN 2023-04-01 01:00:00\n",
       "2     139.932203         NaN    NaN 2023-04-01 02:00:00\n",
       "3     146.101695         NaN    NaN 2023-04-01 03:00:00\n",
       "4     145.220339         NaN    NaN 2023-04-01 04:00:00\n",
       "...          ...         ...    ...                 ...\n",
       "9428         NaN   93.464466   63.0 2024-04-30 19:00:00\n",
       "9429         NaN   96.859212   83.0 2024-04-30 20:00:00\n",
       "9430         NaN  104.308558  100.0 2024-04-30 21:00:00\n",
       "9431         NaN  114.512325  116.0 2024-04-30 22:00:00\n",
       "9432         NaN  124.726415  125.0 2024-04-30 23:00:00\n",
       "\n",
       "[9433 rows x 4 columns]"
      ]
     },
     "execution_count": 18,
     "metadata": {},
     "output_type": "execute_result"
    }
   ],
   "source": [
    "gabungan = pd.concat([trains, prediksi, tests, df['waktu1']], axis=1)\n",
    "gabungan.columns = ['Train', 'Prediksi', 'Test', 'waktu']\n",
    "gabungan"
   ]
  },
  {
   "cell_type": "code",
   "execution_count": 19,
   "metadata": {},
   "outputs": [],
   "source": [
    "gabungan.to_csv('ses_tableau.csv', index=False)"
   ]
  },
  {
   "cell_type": "code",
   "execution_count": null,
   "metadata": {},
   "outputs": [],
   "source": []
  },
  {
   "cell_type": "code",
   "execution_count": null,
   "metadata": {},
   "outputs": [],
   "source": []
  },
  {
   "cell_type": "code",
   "execution_count": null,
   "metadata": {},
   "outputs": [],
   "source": []
  }
 ],
 "metadata": {
  "colab": {
   "provenance": []
  },
  "kernelspec": {
   "display_name": "Python 3 (ipykernel)",
   "language": "python",
   "name": "python3"
  },
  "language_info": {
   "codemirror_mode": {
    "name": "ipython",
    "version": 3
   },
   "file_extension": ".py",
   "mimetype": "text/x-python",
   "name": "python",
   "nbconvert_exporter": "python",
   "pygments_lexer": "ipython3",
   "version": "3.10.12"
  }
 },
 "nbformat": 4,
 "nbformat_minor": 4
}
