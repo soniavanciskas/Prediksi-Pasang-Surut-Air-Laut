{
 "cells": [
  {
   "cell_type": "code",
   "execution_count": 1,
   "metadata": {
    "id": "wXzbfXLsQ2Lx"
   },
   "outputs": [],
   "source": [
    "import pandas as pd\n",
    "import numpy as np\n",
    "import matplotlib as pyplot\n",
    "from datetime import datetime"
   ]
  },
  {
   "cell_type": "code",
   "execution_count": 2,
   "metadata": {
    "colab": {
     "base_uri": "https://localhost:8080/"
    },
    "id": "kWcpPcWcXTAv",
    "outputId": "b446c972-8c9f-4da9-d952-b6780efd8510"
   },
   "outputs": [
    {
     "name": "stdout",
     "output_type": "stream",
     "text": [
      "<class 'pandas.core.frame.DataFrame'>\n",
      "RangeIndex: 9433 entries, 0 to 9432\n",
      "Data columns (total 3 columns):\n",
      " #   Column      Non-Null Count  Dtype \n",
      "---  ------      --------------  ----- \n",
      " 0   tanggal     9433 non-null   object\n",
      " 1   waktu       9433 non-null   object\n",
      " 2   ketinggian  9433 non-null   int64 \n",
      "dtypes: int64(1), object(2)\n",
      "memory usage: 221.2+ KB\n"
     ]
    }
   ],
   "source": [
    "df = pd.read_csv(\"april.csv\")\n",
    "df.info()"
   ]
  },
  {
   "cell_type": "code",
   "execution_count": 3,
   "metadata": {
    "colab": {
     "base_uri": "https://localhost:8080/"
    },
    "id": "fy0YtzOTXTDQ",
    "outputId": "49472e81-17a3-4d08-a435-af3484c3e8eb"
   },
   "outputs": [
    {
     "name": "stdout",
     "output_type": "stream",
     "text": [
      "<class 'pandas.core.frame.DataFrame'>\n",
      "RangeIndex: 9433 entries, 0 to 9432\n",
      "Data columns (total 3 columns):\n",
      " #   Column      Non-Null Count  Dtype         \n",
      "---  ------      --------------  -----         \n",
      " 0   tanggal     9433 non-null   datetime64[ns]\n",
      " 1   waktu       9433 non-null   object        \n",
      " 2   ketinggian  9433 non-null   int64         \n",
      "dtypes: datetime64[ns](1), int64(1), object(1)\n",
      "memory usage: 221.2+ KB\n"
     ]
    }
   ],
   "source": [
    "#ubah menjadi datetime\n",
    "df['tanggal'] = pd.to_datetime(df['tanggal'], format='%d/%m/%Y')\n",
    "df['waktu'] = pd.to_datetime(df['waktu'], format='%H:%M:%S').dt.time\n",
    "df.info()"
   ]
  },
  {
   "cell_type": "code",
   "execution_count": 4,
   "metadata": {
    "colab": {
     "base_uri": "https://localhost:8080/"
    },
    "id": "Do3VN_pLZOwm",
    "outputId": "19a56fa3-c4af-4389-e3a7-69aa70cb1c5a"
   },
   "outputs": [
    {
     "name": "stdout",
     "output_type": "stream",
     "text": [
      "<class 'pandas.core.frame.DataFrame'>\n",
      "RangeIndex: 9433 entries, 0 to 9432\n",
      "Data columns (total 4 columns):\n",
      " #   Column      Non-Null Count  Dtype         \n",
      "---  ------      --------------  -----         \n",
      " 0   tanggal     9433 non-null   datetime64[ns]\n",
      " 1   waktu       9433 non-null   object        \n",
      " 2   ketinggian  9433 non-null   int64         \n",
      " 3   waktu1      9433 non-null   datetime64[ns]\n",
      "dtypes: datetime64[ns](2), int64(1), object(1)\n",
      "memory usage: 294.9+ KB\n"
     ]
    }
   ],
   "source": [
    "# gabung\n",
    "df['waktu1'] = df.apply(lambda row: datetime.combine(row['tanggal'], row['waktu']), axis=1)\n",
    "df.info()"
   ]
  },
  {
   "cell_type": "code",
   "execution_count": 5,
   "metadata": {
    "colab": {
     "base_uri": "https://localhost:8080/",
     "height": 424
    },
    "id": "xCnGvLCNXTGX",
    "outputId": "4765853d-021b-450b-f641-4d07093e0974"
   },
   "outputs": [
    {
     "data": {
      "text/html": [
       "<div>\n",
       "<style scoped>\n",
       "    .dataframe tbody tr th:only-of-type {\n",
       "        vertical-align: middle;\n",
       "    }\n",
       "\n",
       "    .dataframe tbody tr th {\n",
       "        vertical-align: top;\n",
       "    }\n",
       "\n",
       "    .dataframe thead th {\n",
       "        text-align: right;\n",
       "    }\n",
       "</style>\n",
       "<table border=\"1\" class=\"dataframe\">\n",
       "  <thead>\n",
       "    <tr style=\"text-align: right;\">\n",
       "      <th></th>\n",
       "      <th>ketinggian</th>\n",
       "      <th>waktu1</th>\n",
       "    </tr>\n",
       "  </thead>\n",
       "  <tbody>\n",
       "    <tr>\n",
       "      <th>0</th>\n",
       "      <td>93</td>\n",
       "      <td>2023-04-01 00:00:00</td>\n",
       "    </tr>\n",
       "    <tr>\n",
       "      <th>1</th>\n",
       "      <td>129</td>\n",
       "      <td>2023-04-01 01:00:00</td>\n",
       "    </tr>\n",
       "    <tr>\n",
       "      <th>2</th>\n",
       "      <td>153</td>\n",
       "      <td>2023-04-01 02:00:00</td>\n",
       "    </tr>\n",
       "    <tr>\n",
       "      <th>3</th>\n",
       "      <td>160</td>\n",
       "      <td>2023-04-01 03:00:00</td>\n",
       "    </tr>\n",
       "    <tr>\n",
       "      <th>4</th>\n",
       "      <td>159</td>\n",
       "      <td>2023-04-01 04:00:00</td>\n",
       "    </tr>\n",
       "    <tr>\n",
       "      <th>...</th>\n",
       "      <td>...</td>\n",
       "      <td>...</td>\n",
       "    </tr>\n",
       "    <tr>\n",
       "      <th>9428</th>\n",
       "      <td>63</td>\n",
       "      <td>2024-04-30 19:00:00</td>\n",
       "    </tr>\n",
       "    <tr>\n",
       "      <th>9429</th>\n",
       "      <td>83</td>\n",
       "      <td>2024-04-30 20:00:00</td>\n",
       "    </tr>\n",
       "    <tr>\n",
       "      <th>9430</th>\n",
       "      <td>100</td>\n",
       "      <td>2024-04-30 21:00:00</td>\n",
       "    </tr>\n",
       "    <tr>\n",
       "      <th>9431</th>\n",
       "      <td>116</td>\n",
       "      <td>2024-04-30 22:00:00</td>\n",
       "    </tr>\n",
       "    <tr>\n",
       "      <th>9432</th>\n",
       "      <td>125</td>\n",
       "      <td>2024-04-30 23:00:00</td>\n",
       "    </tr>\n",
       "  </tbody>\n",
       "</table>\n",
       "<p>9433 rows × 2 columns</p>\n",
       "</div>"
      ],
      "text/plain": [
       "      ketinggian              waktu1\n",
       "0             93 2023-04-01 00:00:00\n",
       "1            129 2023-04-01 01:00:00\n",
       "2            153 2023-04-01 02:00:00\n",
       "3            160 2023-04-01 03:00:00\n",
       "4            159 2023-04-01 04:00:00\n",
       "...          ...                 ...\n",
       "9428          63 2024-04-30 19:00:00\n",
       "9429          83 2024-04-30 20:00:00\n",
       "9430         100 2024-04-30 21:00:00\n",
       "9431         116 2024-04-30 22:00:00\n",
       "9432         125 2024-04-30 23:00:00\n",
       "\n",
       "[9433 rows x 2 columns]"
      ]
     },
     "execution_count": 5,
     "metadata": {},
     "output_type": "execute_result"
    }
   ],
   "source": [
    "# Menghapus kolom 'tanggal' dan 'waktu' yang lama\n",
    "df.drop(columns=['tanggal', 'waktu'], inplace=True)\n",
    "df"
   ]
  },
  {
   "cell_type": "code",
   "execution_count": 6,
   "metadata": {
    "colab": {
     "base_uri": "https://localhost:8080/"
    },
    "id": "evsYfEaEa2Lf",
    "outputId": "4df6bcad-0db0-4ae9-d48f-d48923c0d0ca"
   },
   "outputs": [
    {
     "data": {
      "text/plain": [
       "ketinggian    0\n",
       "waktu1        0\n",
       "dtype: int64"
      ]
     },
     "execution_count": 6,
     "metadata": {},
     "output_type": "execute_result"
    }
   ],
   "source": [
    "#cek data hilang\n",
    "df.isnull().sum()"
   ]
  },
  {
   "cell_type": "code",
   "execution_count": 7,
   "metadata": {
    "colab": {
     "base_uri": "https://localhost:8080/",
     "height": 428
    },
    "id": "kiSoVdxFbp__",
    "outputId": "6111062c-18b9-42ee-a7a0-e280f6649ccc"
   },
   "outputs": [
    {
     "data": {
      "text/plain": [
       "<Axes: ylabel='ketinggian'>"
      ]
     },
     "execution_count": 7,
     "metadata": {},
     "output_type": "execute_result"
    },
    {
     "data": {
      "image/png": "[encoded data removed]",
      "text/plain": [
       "<Figure size 640x480 with 1 Axes>"
      ]
     },
     "metadata": {},
     "output_type": "display_data"
    }
   ],
   "source": [
    "#cek outlier\n",
    "import seaborn as sns\n",
    "sns.boxplot(y=df['ketinggian'])"
   ]
  },
  {
   "cell_type": "code",
   "execution_count": 8,
   "metadata": {},
   "outputs": [
    {
     "name": "stdout",
     "output_type": "stream",
     "text": [
      "ADF Test Statistic : -3.398124521210949\n",
      "p-value : 0.011022972945383866\n",
      "#Lags Used : 38\n",
      "Number of Observations : 9394\n",
      "strong evidence against the null hypothesis(Ho),Data is stationary\n"
     ]
    }
   ],
   "source": [
    "#cek data stationer atau tidak \n",
    "from statsmodels.tsa.stattools import adfuller\n",
    "def adfuller_test(tinggi):\n",
    "  result=adfuller(tinggi)\n",
    "  labels = ['ADF Test Statistic','p-value','#Lags Used','Number of Observations']\n",
    "  for value,label in zip(result,labels):\n",
    "    print(label+' : '+str(value) )\n",
    "  if result[1] <= 0.05:\n",
    "    print(\"strong evidence against the null hypothesis(Ho),Data is stationary\")\n",
    "  else:\n",
    "    print(\"weak evidence against null hypothesis,indicating it is non- stationary \")\n",
    "adfuller_test(df['ketinggian'])"
   ]
  },
  {
   "cell_type": "code",
   "execution_count": 9,
   "metadata": {
    "colab": {
     "base_uri": "https://localhost:8080/"
    },
    "id": "QH999EMwcewH",
    "outputId": "ded43494-af99-462e-dbe0-6500e9c2c299"
   },
   "outputs": [
    {
     "data": {
      "text/plain": [
       "7546"
      ]
     },
     "execution_count": 9,
     "metadata": {},
     "output_type": "execute_result"
    }
   ],
   "source": [
    "# hitung data training dengan data testing\n",
    "utrain = int(len(df) * 0.8)\n",
    "utest = len(df) - utrain\n",
    "utrain"
   ]
  },
  {
   "cell_type": "code",
   "execution_count": 10,
   "metadata": {
    "colab": {
     "base_uri": "https://localhost:8080/",
     "height": 424
    },
    "id": "2PFnzDTXceyw",
    "outputId": "fafaf0bb-454e-45d4-85f5-385e5b349db5"
   },
   "outputs": [
    {
     "data": {
      "text/html": [
       "<div>\n",
       "<style scoped>\n",
       "    .dataframe tbody tr th:only-of-type {\n",
       "        vertical-align: middle;\n",
       "    }\n",
       "\n",
       "    .dataframe tbody tr th {\n",
       "        vertical-align: top;\n",
       "    }\n",
       "\n",
       "    .dataframe thead th {\n",
       "        text-align: right;\n",
       "    }\n",
       "</style>\n",
       "<table border=\"1\" class=\"dataframe\">\n",
       "  <thead>\n",
       "    <tr style=\"text-align: right;\">\n",
       "      <th></th>\n",
       "      <th>ketinggian</th>\n",
       "      <th>waktu1</th>\n",
       "    </tr>\n",
       "  </thead>\n",
       "  <tbody>\n",
       "    <tr>\n",
       "      <th>0</th>\n",
       "      <td>93</td>\n",
       "      <td>2023-04-01 00:00:00</td>\n",
       "    </tr>\n",
       "    <tr>\n",
       "      <th>1</th>\n",
       "      <td>129</td>\n",
       "      <td>2023-04-01 01:00:00</td>\n",
       "    </tr>\n",
       "    <tr>\n",
       "      <th>2</th>\n",
       "      <td>153</td>\n",
       "      <td>2023-04-01 02:00:00</td>\n",
       "    </tr>\n",
       "    <tr>\n",
       "      <th>3</th>\n",
       "      <td>160</td>\n",
       "      <td>2023-04-01 03:00:00</td>\n",
       "    </tr>\n",
       "    <tr>\n",
       "      <th>4</th>\n",
       "      <td>159</td>\n",
       "      <td>2023-04-01 04:00:00</td>\n",
       "    </tr>\n",
       "    <tr>\n",
       "      <th>...</th>\n",
       "      <td>...</td>\n",
       "      <td>...</td>\n",
       "    </tr>\n",
       "    <tr>\n",
       "      <th>7541</th>\n",
       "      <td>118</td>\n",
       "      <td>2024-02-12 04:00:00</td>\n",
       "    </tr>\n",
       "    <tr>\n",
       "      <th>7542</th>\n",
       "      <td>151</td>\n",
       "      <td>2024-02-12 05:00:00</td>\n",
       "    </tr>\n",
       "    <tr>\n",
       "      <th>7543</th>\n",
       "      <td>150</td>\n",
       "      <td>2024-02-12 06:00:00</td>\n",
       "    </tr>\n",
       "    <tr>\n",
       "      <th>7544</th>\n",
       "      <td>144</td>\n",
       "      <td>2024-02-12 07:00:00</td>\n",
       "    </tr>\n",
       "    <tr>\n",
       "      <th>7545</th>\n",
       "      <td>135</td>\n",
       "      <td>2024-02-12 08:00:00</td>\n",
       "    </tr>\n",
       "  </tbody>\n",
       "</table>\n",
       "<p>7546 rows × 2 columns</p>\n",
       "</div>"
      ],
      "text/plain": [
       "      ketinggian              waktu1\n",
       "0             93 2023-04-01 00:00:00\n",
       "1            129 2023-04-01 01:00:00\n",
       "2            153 2023-04-01 02:00:00\n",
       "3            160 2023-04-01 03:00:00\n",
       "4            159 2023-04-01 04:00:00\n",
       "...          ...                 ...\n",
       "7541         118 2024-02-12 04:00:00\n",
       "7542         151 2024-02-12 05:00:00\n",
       "7543         150 2024-02-12 06:00:00\n",
       "7544         144 2024-02-12 07:00:00\n",
       "7545         135 2024-02-12 08:00:00\n",
       "\n",
       "[7546 rows x 2 columns]"
      ]
     },
     "execution_count": 10,
     "metadata": {},
     "output_type": "execute_result"
    }
   ],
   "source": [
    "# pisah data training dan data testing\n",
    "train = df.iloc[:7546]\n",
    "test = df.iloc[7546:]\n",
    "train"
   ]
  },
  {
   "cell_type": "code",
   "execution_count": 11,
   "metadata": {
    "id": "q2HcTwhcce8t"
   },
   "outputs": [],
   "source": [
    "def create_dataset(dataset, look_back=1):\n",
    "    # Ensure dataset is a numpy array\n",
    "    dataset = np.asarray(df)\n",
    "    dataX, dataY = [], []\n",
    "\n",
    "    for i in range(len(dataset)-look_back):\n",
    "        a = dataset[i:(i+look_back), 0]\n",
    "        dataX.append(a)\n",
    "        dataY.append(dataset[i + look_back, 0])\n",
    "    return np.array(dataX), np.array(dataY)"
   ]
  },
  {
   "cell_type": "code",
   "execution_count": 12,
   "metadata": {
    "id": "5iFDFk3bce_l"
   },
   "outputs": [],
   "source": [
    "look_back = 1\n",
    "trainX, trainY = create_dataset(train[['ketinggian']], look_back)\n",
    "testX, testY = create_dataset(test[['ketinggian']], look_back)"
   ]
  },
  {
   "cell_type": "code",
   "execution_count": 13,
   "metadata": {},
   "outputs": [],
   "source": [
    "# menghilangkan data yang lebih dari data testing \n",
    "if len(testX) < len(test):\n",
    "    # Padding with zeros or some other value to match the length\n",
    "    padding_size = len(test) - len(testX)\n",
    "    testX = np.vstack([testX, np.zeros((padding_size, look_back))])\n",
    "    testY = np.concatenate([testY, np.zeros(padding_size)])\n",
    "\n",
    "# Or if you want to remove extra data from testX and testY\n",
    "if len(testX) > len(test):\n",
    "    testX = testX[:len(test)]\n",
    "    testY = testY[:len(test)]"
   ]
  },
  {
   "cell_type": "code",
   "execution_count": 14,
   "metadata": {},
   "outputs": [],
   "source": [
    "if len(trainX) > len(train) - look_back:\n",
    "    # Jika trainX lebih panjang, potong menjadi sesuai dengan panjang train\n",
    "    trainX = trainX[:len(train) - look_back]\n",
    "    trainY = trainY[:len(train) - look_back]\n",
    "    \n",
    "elif len(trainX) < len(train) - look_back:\n",
    "    # Jika trainX lebih pendek, tambahkan padding dengan nol\n",
    "    padding_size = (len(train) - look_back) - len(trainX)\n",
    "    \n",
    "    # Sesuaikan padding dengan dimensi `trainX`\n",
    "    padding_X = np.zeros((padding_size, trainX.shape[1])) if trainX.ndim == 2 else np.zeros((padding_size, trainX.shape[1], trainX.shape[2]))\n",
    "    trainX = np.vstack([trainX, padding_X])\n",
    "    \n",
    "    # Padding untuk `trainY`, yang merupakan array 1D\n",
    "    padding_Y = np.zeros(padding_size)\n",
    "    trainY = np.concatenate([trainY, padding_Y])"
   ]
  },
  {
   "cell_type": "code",
   "execution_count": 15,
   "metadata": {},
   "outputs": [
    {
     "data": {
      "text/plain": [
       "7545"
      ]
     },
     "execution_count": 15,
     "metadata": {},
     "output_type": "execute_result"
    }
   ],
   "source": [
    "len(trainX)"
   ]
  },
  {
   "cell_type": "code",
   "execution_count": 16,
   "metadata": {
    "id": "mC5ZQzfdwSP6"
   },
   "outputs": [],
   "source": [
    "# Normalisasi data\n",
    "from sklearn.preprocessing import MinMaxScaler\n",
    "scaler_X = MinMaxScaler(feature_range=(0, 1))\n",
    "scaler_Y = MinMaxScaler(feature_range=(0, 1))\n",
    "\n",
    "trainX = scaler_X.fit_transform(trainX)\n",
    "testX = scaler_X.transform(testX)\n",
    "\n",
    "trainY = scaler_Y.fit_transform(trainY.reshape(-1, 1))\n",
    "testY = scaler_Y.transform(testY.reshape(-1, 1))"
   ]
  },
  {
   "cell_type": "code",
   "execution_count": 17,
   "metadata": {
    "id": "b70_izDZcfEe"
   },
   "outputs": [],
   "source": [
    "# Ubah data menjadi [samples, time steps, features]\n",
    "trainX = np.reshape(trainX, (trainX.shape[0], 1, trainX.shape[1]))\n",
    "testX = np.reshape(testX, (testX.shape[0], 1, testX.shape[1]))"
   ]
  },
  {
   "cell_type": "code",
   "execution_count": 18,
   "metadata": {
    "id": "eLN8I8-EcfHt"
   },
   "outputs": [
    {
     "name": "stderr",
     "output_type": "stream",
     "text": [
      "2024-09-03 16:10:11.817012: E tensorflow/compiler/xla/stream_executor/cuda/cuda_dnn.cc:9360] Unable to register cuDNN factory: Attempting to register factory for plugin cuDNN when one has already been registered\n",
      "2024-09-03 16:10:11.817080: E tensorflow/compiler/xla/stream_executor/cuda/cuda_fft.cc:609] Unable to register cuFFT factory: Attempting to register factory for plugin cuFFT when one has already been registered\n",
      "2024-09-03 16:10:11.817107: E tensorflow/compiler/xla/stream_executor/cuda/cuda_blas.cc:1537] Unable to register cuBLAS factory: Attempting to register factory for plugin cuBLAS when one has already been registered\n",
      "2024-09-03 16:10:11.826291: I tensorflow/core/platform/cpu_feature_guard.cc:183] This TensorFlow binary is optimized to use available CPU instructions in performance-critical operations.\n",
      "To enable the following instructions: SSE3 SSE4.1 SSE4.2 AVX, in other operations, rebuild TensorFlow with the appropriate compiler flags.\n",
      "2024-09-03 16:10:13.699503: E tensorflow/compiler/xla/stream_executor/cuda/cuda_driver.cc:268] failed call to cuInit: CUDA_ERROR_NO_DEVICE: no CUDA-capable device is detected\n"
     ]
    }
   ],
   "source": [
    "# Membuat model LSTM\n",
    "from keras.models import Sequential\n",
    "from keras.layers import LSTM, Dense\n",
    "\n",
    "model = Sequential()\n",
    "model.add(LSTM(50, input_shape=(1, look_back)))\n",
    "model.add(Dense(1))\n",
    "model.compile(loss='mean_squared_error', optimizer='adam')"
   ]
  },
  {
   "cell_type": "code",
   "execution_count": null,
   "metadata": {
    "colab": {
     "base_uri": "https://localhost:8080/"
    },
    "id": "hro0NAMUcfKN",
    "outputId": "cdcc29d1-19da-43a3-d539-5b95f4a9b0cd"
   },
   "outputs": [
    {
     "name": "stdout",
     "output_type": "stream",
     "text": [
      "Epoch 1/100\n",
      "7545/7545 - 8s - loss: 0.0070 - 8s/epoch - 1ms/step\n",
      "Epoch 2/100\n",
      "7545/7545 - 7s - loss: 0.0049 - 7s/epoch - 934us/step\n",
      "Epoch 3/100\n",
      "7545/7545 - 7s - loss: 0.0049 - 7s/epoch - 920us/step\n",
      "Epoch 4/100\n",
      "7545/7545 - 7s - loss: 0.0049 - 7s/epoch - 927us/step\n",
      "Epoch 5/100\n",
      "7545/7545 - 7s - loss: 0.0049 - 7s/epoch - 926us/step\n",
      "Epoch 6/100\n",
      "7545/7545 - 7s - loss: 0.0049 - 7s/epoch - 934us/step\n",
      "Epoch 7/100\n",
      "7545/7545 - 7s - loss: 0.0048 - 7s/epoch - 927us/step\n",
      "Epoch 8/100\n",
      "7545/7545 - 7s - loss: 0.0049 - 7s/epoch - 925us/step\n",
      "Epoch 9/100\n",
      "7545/7545 - 7s - loss: 0.0049 - 7s/epoch - 923us/step\n",
      "Epoch 10/100\n",
      "7545/7545 - 7s - loss: 0.0049 - 7s/epoch - 921us/step\n",
      "Epoch 11/100\n",
      "7545/7545 - 7s - loss: 0.0049 - 7s/epoch - 941us/step\n",
      "Epoch 12/100\n",
      "7545/7545 - 7s - loss: 0.0048 - 7s/epoch - 931us/step\n",
      "Epoch 13/100\n",
      "7545/7545 - 7s - loss: 0.0048 - 7s/epoch - 937us/step\n",
      "Epoch 14/100\n",
      "7545/7545 - 7s - loss: 0.0048 - 7s/epoch - 935us/step\n",
      "Epoch 15/100\n",
      "7545/7545 - 7s - loss: 0.0048 - 7s/epoch - 933us/step\n",
      "Epoch 16/100\n",
      "7545/7545 - 7s - loss: 0.0048 - 7s/epoch - 932us/step\n",
      "Epoch 17/100\n",
      "7545/7545 - 7s - loss: 0.0048 - 7s/epoch - 931us/step\n",
      "Epoch 18/100\n",
      "7545/7545 - 7s - loss: 0.0048 - 7s/epoch - 930us/step\n",
      "Epoch 19/100\n",
      "7545/7545 - 7s - loss: 0.0048 - 7s/epoch - 934us/step\n",
      "Epoch 20/100\n",
      "7545/7545 - 7s - loss: 0.0048 - 7s/epoch - 922us/step\n",
      "Epoch 21/100\n",
      "7545/7545 - 7s - loss: 0.0048 - 7s/epoch - 924us/step\n",
      "Epoch 22/100\n",
      "7545/7545 - 7s - loss: 0.0048 - 7s/epoch - 916us/step\n",
      "Epoch 23/100\n",
      "7545/7545 - 7s - loss: 0.0048 - 7s/epoch - 942us/step\n",
      "Epoch 24/100\n",
      "7545/7545 - 7s - loss: 0.0048 - 7s/epoch - 939us/step\n",
      "Epoch 25/100\n",
      "7545/7545 - 7s - loss: 0.0048 - 7s/epoch - 937us/step\n",
      "Epoch 26/100\n",
      "7545/7545 - 7s - loss: 0.0048 - 7s/epoch - 922us/step\n",
      "Epoch 27/100\n",
      "7545/7545 - 7s - loss: 0.0048 - 7s/epoch - 935us/step\n",
      "Epoch 28/100\n",
      "7545/7545 - 7s - loss: 0.0048 - 7s/epoch - 933us/step\n",
      "Epoch 29/100\n",
      "7545/7545 - 7s - loss: 0.0048 - 7s/epoch - 928us/step\n",
      "Epoch 30/100\n",
      "7545/7545 - 7s - loss: 0.0048 - 7s/epoch - 929us/step\n",
      "Epoch 31/100\n",
      "7545/7545 - 7s - loss: 0.0048 - 7s/epoch - 936us/step\n",
      "Epoch 32/100\n",
      "7545/7545 - 7s - loss: 0.0048 - 7s/epoch - 925us/step\n",
      "Epoch 33/100\n",
      "7545/7545 - 7s - loss: 0.0048 - 7s/epoch - 921us/step\n",
      "Epoch 34/100\n",
      "7545/7545 - 7s - loss: 0.0048 - 7s/epoch - 931us/step\n",
      "Epoch 35/100\n",
      "7545/7545 - 7s - loss: 0.0048 - 7s/epoch - 936us/step\n",
      "Epoch 36/100\n",
      "7545/7545 - 7s - loss: 0.0048 - 7s/epoch - 943us/step\n",
      "Epoch 37/100\n",
      "7545/7545 - 7s - loss: 0.0048 - 7s/epoch - 944us/step\n",
      "Epoch 38/100\n",
      "7545/7545 - 7s - loss: 0.0048 - 7s/epoch - 937us/step\n",
      "Epoch 39/100\n",
      "7545/7545 - 7s - loss: 0.0048 - 7s/epoch - 931us/step\n",
      "Epoch 40/100\n",
      "7545/7545 - 7s - loss: 0.0048 - 7s/epoch - 927us/step\n",
      "Epoch 41/100\n",
      "7545/7545 - 7s - loss: 0.0047 - 7s/epoch - 932us/step\n",
      "Epoch 42/100\n",
      "7545/7545 - 7s - loss: 0.0048 - 7s/epoch - 934us/step\n",
      "Epoch 43/100\n",
      "7545/7545 - 7s - loss: 0.0048 - 7s/epoch - 938us/step\n",
      "Epoch 44/100\n",
      "7545/7545 - 7s - loss: 0.0048 - 7s/epoch - 934us/step\n",
      "Epoch 45/100\n",
      "7545/7545 - 7s - loss: 0.0047 - 7s/epoch - 943us/step\n",
      "Epoch 46/100\n",
      "7545/7545 - 7s - loss: 0.0048 - 7s/epoch - 943us/step\n",
      "Epoch 47/100\n",
      "7545/7545 - 7s - loss: 0.0048 - 7s/epoch - 930us/step\n",
      "Epoch 48/100\n",
      "7545/7545 - 7s - loss: 0.0048 - 7s/epoch - 942us/step\n",
      "Epoch 49/100\n",
      "7545/7545 - 7s - loss: 0.0048 - 7s/epoch - 940us/step\n",
      "Epoch 50/100\n",
      "7545/7545 - 7s - loss: 0.0048 - 7s/epoch - 953us/step\n",
      "Epoch 51/100\n",
      "7545/7545 - 7s - loss: 0.0048 - 7s/epoch - 960us/step\n",
      "Epoch 52/100\n",
      "7545/7545 - 8s - loss: 0.0048 - 8s/epoch - 1ms/step\n",
      "Epoch 53/100\n",
      "7545/7545 - 8s - loss: 0.0047 - 8s/epoch - 1ms/step\n",
      "Epoch 54/100\n",
      "7545/7545 - 7s - loss: 0.0048 - 7s/epoch - 973us/step\n",
      "Epoch 55/100\n",
      "7545/7545 - 7s - loss: 0.0047 - 7s/epoch - 972us/step\n",
      "Epoch 56/100\n",
      "7545/7545 - 7s - loss: 0.0048 - 7s/epoch - 976us/step\n",
      "Epoch 57/100\n",
      "7545/7545 - 7s - loss: 0.0047 - 7s/epoch - 968us/step\n",
      "Epoch 58/100\n",
      "7545/7545 - 10s - loss: 0.0047 - 10s/epoch - 1ms/step\n",
      "Epoch 59/100\n",
      "7545/7545 - 7s - loss: 0.0047 - 7s/epoch - 961us/step\n",
      "Epoch 60/100\n",
      "7545/7545 - 7s - loss: 0.0047 - 7s/epoch - 949us/step\n",
      "Epoch 61/100\n",
      "7545/7545 - 7s - loss: 0.0047 - 7s/epoch - 962us/step\n",
      "Epoch 62/100\n",
      "7545/7545 - 7s - loss: 0.0048 - 7s/epoch - 935us/step\n",
      "Epoch 63/100\n",
      "7545/7545 - 7s - loss: 0.0047 - 7s/epoch - 942us/step\n",
      "Epoch 64/100\n",
      "7545/7545 - 7s - loss: 0.0047 - 7s/epoch - 942us/step\n",
      "Epoch 65/100\n",
      "7545/7545 - 7s - loss: 0.0047 - 7s/epoch - 958us/step\n",
      "Epoch 66/100\n",
      "7545/7545 - 7s - loss: 0.0047 - 7s/epoch - 966us/step\n",
      "Epoch 67/100\n",
      "7545/7545 - 7s - loss: 0.0047 - 7s/epoch - 945us/step\n",
      "Epoch 68/100\n",
      "7545/7545 - 7s - loss: 0.0047 - 7s/epoch - 941us/step\n",
      "Epoch 69/100\n",
      "7545/7545 - 7s - loss: 0.0047 - 7s/epoch - 944us/step\n",
      "Epoch 70/100\n",
      "7545/7545 - 7s - loss: 0.0047 - 7s/epoch - 951us/step\n",
      "Epoch 71/100\n",
      "7545/7545 - 8s - loss: 0.0047 - 8s/epoch - 1ms/step\n",
      "Epoch 72/100\n",
      "7545/7545 - 8s - loss: 0.0047 - 8s/epoch - 1ms/step\n",
      "Epoch 73/100\n",
      "7545/7545 - 8s - loss: 0.0047 - 8s/epoch - 1ms/step\n",
      "Epoch 74/100\n",
      "7545/7545 - 7s - loss: 0.0047 - 7s/epoch - 947us/step\n",
      "Epoch 75/100\n",
      "7545/7545 - 7s - loss: 0.0047 - 7s/epoch - 947us/step\n",
      "Epoch 76/100\n",
      "7545/7545 - 7s - loss: 0.0047 - 7s/epoch - 939us/step\n",
      "Epoch 77/100\n",
      "7545/7545 - 7s - loss: 0.0047 - 7s/epoch - 940us/step\n",
      "Epoch 78/100\n",
      "7545/7545 - 7s - loss: 0.0047 - 7s/epoch - 945us/step\n",
      "Epoch 79/100\n",
      "7545/7545 - 7s - loss: 0.0047 - 7s/epoch - 938us/step\n",
      "Epoch 80/100\n",
      "7545/7545 - 7s - loss: 0.0047 - 7s/epoch - 939us/step\n",
      "Epoch 81/100\n",
      "7545/7545 - 7s - loss: 0.0047 - 7s/epoch - 950us/step\n",
      "Epoch 82/100\n",
      "7545/7545 - 7s - loss: 0.0047 - 7s/epoch - 947us/step\n",
      "Epoch 83/100\n",
      "7545/7545 - 7s - loss: 0.0047 - 7s/epoch - 941us/step\n",
      "Epoch 84/100\n",
      "7545/7545 - 7s - loss: 0.0047 - 7s/epoch - 957us/step\n",
      "Epoch 85/100\n",
      "7545/7545 - 7s - loss: 0.0047 - 7s/epoch - 947us/step\n",
      "Epoch 86/100\n",
      "7545/7545 - 7s - loss: 0.0047 - 7s/epoch - 957us/step\n",
      "Epoch 87/100\n",
      "7545/7545 - 7s - loss: 0.0047 - 7s/epoch - 946us/step\n",
      "Epoch 88/100\n",
      "7545/7545 - 7s - loss: 0.0047 - 7s/epoch - 940us/step\n",
      "Epoch 89/100\n",
      "7545/7545 - 7s - loss: 0.0047 - 7s/epoch - 941us/step\n",
      "Epoch 90/100\n",
      "7545/7545 - 7s - loss: 0.0047 - 7s/epoch - 935us/step\n",
      "Epoch 91/100\n"
     ]
    }
   ],
   "source": [
    "# Melatih model\n",
    "model.fit(trainX, trainY, epochs=100, batch_size=1, verbose=2)"
   ]
  },
  {
   "cell_type": "code",
   "execution_count": null,
   "metadata": {
    "colab": {
     "base_uri": "https://localhost:8080/"
    },
    "id": "mEXj57OpuMnx",
    "outputId": "a9c2acfa-acfa-411c-d479-2ec7821e686b"
   },
   "outputs": [],
   "source": [
    "# Prediksi menggunakan data pengujian\n",
    "\n",
    "testPredict = model.predict(testX)"
   ]
  },
  {
   "cell_type": "code",
   "execution_count": null,
   "metadata": {},
   "outputs": [],
   "source": [
    "testPredict"
   ]
  },
  {
   "cell_type": "code",
   "execution_count": null,
   "metadata": {
    "id": "lc9eHYd0xT6n"
   },
   "outputs": [],
   "source": [
    "# Mengubah bentuk data menjadi 2D array\n",
    "trainY = trainY.reshape(-1, 1)\n",
    "testY = testY.reshape(-1, 1)"
   ]
  },
  {
   "cell_type": "code",
   "execution_count": null,
   "metadata": {
    "id": "JB06Y3Iv8Oxv"
   },
   "outputs": [],
   "source": [
    "#menghitung mae, mse, dan rmse\n",
    "\n",
    "from sklearn import metrics\n",
    "mae = metrics.mean_absolute_error(testY, testPredict)\n",
    "mse = metrics.mean_squared_error(testY, testPredict)\n",
    "rmse = np.sqrt(mse)"
   ]
  },
  {
   "cell_type": "code",
   "execution_count": null,
   "metadata": {},
   "outputs": [],
   "source": [
    "print (mae)\n",
    "print (mse)\n",
    "print (rmse)"
   ]
  },
  {
   "cell_type": "code",
   "execution_count": null,
   "metadata": {},
   "outputs": [],
   "source": [
    "import matplotlib.pyplot as plt\n",
    "\n",
    "# Reversi normalisasi\n",
    "trainY = scaler_Y.inverse_transform(trainY)\n",
    "testY = scaler_Y.inverse_transform(testY)\n",
    "testPredict = scaler_Y.inverse_transform(testPredict)\n",
    "\n",
    "# Mengatur waktu (index) untuk plot\n",
    "train_len = len(trainX)\n",
    "test_len = len(testX)\n",
    "train_index = np.arange(0, train_len)\n",
    "test_index = np.arange(train_len, train_len + test_len)\n",
    "\n",
    "# Membuat plot\n",
    "plt.figure(figsize=(14, 7))\n",
    "\n",
    "# Plot data pelatihan\n",
    "plt.plot(train_index, trainY, label='Data Pelatihan', color='blue')\n",
    "\n",
    "# Plot data pengujian\n",
    "plt.plot(test_index, testY, label='Data Pengujian', color='green')\n",
    "\n",
    "# Plot hasil prediksi\n",
    "plt.plot(test_index, testPredict, label='Hasil Prediksi', color='yellow')\n",
    "\n",
    "# Menambahkan judul dan label\n",
    "plt.title('Grafik Data Pelatihan, Data Pengujian, dan Hasil Prediksi')\n",
    "plt.xlabel('Waktu')\n",
    "plt.ylabel('Ketinggian')\n",
    "plt.legend()\n",
    "plt.show()"
   ]
  },
  {
   "cell_type": "code",
   "execution_count": null,
   "metadata": {},
   "outputs": [],
   "source": [
    "prediksi = pd.DataFrame(testPredict, index=test_index)\n",
    "trains = pd.DataFrame(trainY, index=train_index)\n",
    "tests = pd.DataFrame(testY, index=test_index)"
   ]
  },
  {
   "cell_type": "code",
   "execution_count": null,
   "metadata": {},
   "outputs": [],
   "source": [
    "gabungan = pd.concat([trains, prediksi, tests, df['waktu1']], axis=1)\n",
    "gabungan.columns = ['Train', 'Prediksi', 'Test', 'Waktu']"
   ]
  },
  {
   "cell_type": "code",
   "execution_count": null,
   "metadata": {},
   "outputs": [],
   "source": [
    "gabungan"
   ]
  },
  {
   "cell_type": "code",
   "execution_count": null,
   "metadata": {},
   "outputs": [],
   "source": [
    "gabungan.to_csv('lstm_tableau.csv', index=False)"
   ]
  },
  {
   "cell_type": "code",
   "execution_count": null,
   "metadata": {},
   "outputs": [],
   "source": []
  }
 ],
 "metadata": {
  "colab": {
   "provenance": []
  },
  "kernelspec": {
   "display_name": "Python 3 (ipykernel)",
   "language": "python",
   "name": "python3"
  },
  "language_info": {
   "codemirror_mode": {
    "name": "ipython",
    "version": 3
   },
   "file_extension": ".py",
   "mimetype": "text/x-python",
   "name": "python",
   "nbconvert_exporter": "python",
   "pygments_lexer": "ipython3",
   "version": "3.10.12"
  }
 },
 "nbformat": 4,
 "nbformat_minor": 4
}
